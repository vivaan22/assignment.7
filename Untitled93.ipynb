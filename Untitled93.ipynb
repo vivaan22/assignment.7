{
 "cells": [
  {
   "cell_type": "code",
   "execution_count": null,
   "id": "4f3fbb83",
   "metadata": {},
   "outputs": [],
   "source": [
    "def list_count_4(nums):\n",
    "  count = 0  \n",
    "  for num in nums:\n",
    "    if num == 4:\n",
    "      count = count + 1\n",
    "\n",
    "  return count\n",
    "\n",
    "print(list_count_4([1, 4, 6, 7, 4]))\n",
    "print(list_count_4([1, 4, 6, 4, 7, 4]))"
   ]
  },
  {
   "cell_type": "code",
   "execution_count": null,
   "id": "0ab19fbb",
   "metadata": {},
   "outputs": [],
   "source": [
    "genres_tuple = (\"pop\", \"rock\", \"soul\", \"hard rock\", \"soft rock\", \\\n",
    "                \"R&B\", \"progressive rock\", \"disco\") \n",
    "genres_tuple"
   ]
  },
  {
   "cell_type": "code",
   "execution_count": null,
   "id": "a0b2c86e",
   "metadata": {},
   "outputs": [],
   "source": [
    "tuple2=tuple1+(\"hard rock\", 10)\n",
    "tuple2"
   ]
  },
  {
   "cell_type": "code",
   "execution_count": null,
   "id": "683ebade",
   "metadata": {},
   "outputs": [],
   "source": [
    "Ratings  =(0,9,6,5,10,8,9,6,2)"
   ]
  },
  {
   "cell_type": "code",
   "execution_count": null,
   "id": "e2e86cec",
   "metadata": {},
   "outputs": [],
   "source": [
    "Ratings1=Ratings\n",
    "Ratings"
   ]
  },
  {
   "cell_type": "code",
   "execution_count": null,
   "id": "1e51dce2",
   "metadata": {},
   "outputs": [],
   "source": [
    "RatingsSorted=sorted(Ratings )\n",
    "RatingsSorted"
   ]
  },
  {
   "cell_type": "code",
   "execution_count": null,
   "id": "d73fed34",
   "metadata": {},
   "outputs": [],
   "source": [
    "mid = (low + high)/2\n",
    "    if (x == arr[mid])\n",
    "        return mid\n",
    "    else if (x > arr[mid]) // x is on the right side\n",
    "        low = mid + 1\n",
    "    else                       // x is on the left side\n",
    "        high = mid - 1"
   ]
  },
  {
   "cell_type": "code",
   "execution_count": null,
   "id": "e0993fa2",
   "metadata": {},
   "outputs": [],
   "source": [
    "def isPower(n) :\n",
    "    if (n==1)  :\n",
    "        return True\n",
    "  \n",
    "    # Try all numbers from 2 to sqrt(n) as base\n",
    "    for x in range(2,(int)(math.sqrt(n))+1) :\n",
    "        y = 2\n",
    "        p = (int)(math.pow(x, y))\n",
    "  \n",
    "        # Keep increasing y while power 'p' is smaller\n",
    "        # than n.\n",
    "        while (p<=n and p>0) :\n",
    "            if (p==n) :\n",
    "                return True\n",
    "             \n",
    "            y = y + 1\n",
    "            p = math.pow(x, y)\n",
    "          \n",
    "          \n",
    "    return False\n",
    "     \n",
    "  \n",
    "# Driver Program\n",
    "for i in range(2,100 ) :\n",
    "    if (isPower(i)) :\n",
    "        print(i,end=\" \")\n",
    "         \n",
    "         "
   ]
  },
  {
   "cell_type": "code",
   "execution_count": null,
   "id": "b60de4a6",
   "metadata": {},
   "outputs": [],
   "source": [
    "#Initialising some numbers in a list\n",
    "old_no = [321,431,598,965,79845,9685]\n",
    "#Initialising an empty list to contain the new numbers\n",
    "new_no = []\n",
    "#Iterating over the list old_no\n",
    "for num in old_no:\n",
    "    #Initialising a counter to count the number of digits in num\n",
    "    c = 0\n",
    "    #Initialising a temporary variable to contain the value of num\n",
    "    temp = num\n",
    "    #Initialising an empty list to contain the digits of num\n",
    "    x = []\n",
    "    #Initialising the variable which will contain the new number\n",
    "    no = 0\n",
    "    #Counting the number of digits in num\n",
    "    while temp != 0:\n",
    "        temp = temp//10\n",
    "        c = c+1\n",
    "    #Extracting digits from num, putting them in a list an sorting the list\n",
    "    for i in range(c):\n",
    "        x.append(num%10)\n",
    "        num = num//10\n",
    "    x.sort()\n",
    "    #Forming the new digit after sorting the digit in ascending order\n",
    "    for i in x:\n",
    "        no = (no*10)+i\n",
    "    #Appending the new number formed into the list new_no\n",
    "    new_no.append(no)\n",
    "\n",
    "print(\"The original numbers are:-\")\n",
    "for i in old_no:\n",
    "    print(i)\n",
    "print(\"The numbers after digit rearrangement are:-\")\n",
    "for i in new_no:\n",
    "    print(i)"
   ]
  }
 ],
 "metadata": {
  "kernelspec": {
   "display_name": "Python 3",
   "language": "python",
   "name": "python3"
  },
  "language_info": {
   "codemirror_mode": {
    "name": "ipython",
    "version": 3
   },
   "file_extension": ".py",
   "mimetype": "text/x-python",
   "name": "python",
   "nbconvert_exporter": "python",
   "pygments_lexer": "ipython3",
   "version": "3.8.8"
  }
 },
 "nbformat": 4,
 "nbformat_minor": 5
}
